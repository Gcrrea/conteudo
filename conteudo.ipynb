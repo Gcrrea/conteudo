{
 "cells": [
  {
   "cell_type": "code",
   "execution_count": null,
   "metadata": {},
   "outputs": [],
   "source": [
    "#Modulo 1\n",
    "\n",
    "\"\"\"\n",
    "Variaveis\n",
    "Tipos de dados\n",
    "String, Float, Integer, Boolean\n",
    "Listas, tuplas, dicionarios, sets\n",
    "Trabalhando com tipos de dados\n",
    "Laços for, while\n",
    "Estruturas condicinais\n",
    "Criar ambiente virtual\n",
    "Importação de bibliotecas e pacotes\n",
    "Tratando de erros, Try| except\n",
    "Debugar\n",
    "\n",
    "\"\"\"\n"
   ]
  },
  {
   "cell_type": "code",
   "execution_count": null,
   "metadata": {},
   "outputs": [],
   "source": [
    "#Modulo 2\n",
    "\"\"\"\n",
    "Trabalhando com listas, dicionarios, sets e tuplas\n",
    "Funções, funções com passagem de paramentros.\n",
    "switch case\n",
    "Typing Hint\n",
    "Clousures, Wraps\n",
    "List comp, dict comp, map, reduce, lambdas\n",
    "casting, conversao de tipos, strings, booleans, float, int etc\n",
    "Trabalhando com funções\n",
    "\n",
    "\"\"\""
   ]
  },
  {
   "cell_type": "code",
   "execution_count": null,
   "metadata": {},
   "outputs": [],
   "source": [
    "\"\"\"\n",
    "import lib\n",
    "gerenciadores de contexto\n",
    "\n",
    "\"\"\""
   ]
  },
  {
   "cell_type": "code",
   "execution_count": null,
   "metadata": {},
   "outputs": [],
   "source": [
    "#Modulo 3\n",
    "\"\"\"\n",
    "\n",
    "if __name__ == ‘__main__’:\n",
    "\n",
    "\n",
    "\n",
    "Classes |Orientação a objetos, Herança de classes, Parametros, __init__, Classmesthod, staticmethod\n",
    "getters e setters\n",
    "dataclasses, namedtuples\n",
    "metodos magics, __init__, __str__, __repr__, __next__, __new__,__call__\n",
    "\n",
    "Padroes projeto\n",
    "\n",
    "Factory,template method, classes abstratas\n",
    "\n",
    "\n",
    "\"\"\""
   ]
  },
  {
   "cell_type": "code",
   "execution_count": null,
   "metadata": {},
   "outputs": [],
   "source": [
    "\"\"\"\n",
    "Pandas dataframe\n",
    "\n",
    "Ler arquivos pandas, iterando em dataframe, filtros dataframe, loc e iloc, group by, value counts\n",
    "Merge, append, melt, gerar graficos, plottly, matplot lib, seaborn\n",
    "\n",
    "\"\"\""
   ]
  },
  {
   "cell_type": "code",
   "execution_count": null,
   "metadata": {},
   "outputs": [],
   "source": [
    "#moodulo 4\n",
    "\n",
    "\"\"\"\n",
    "testes praticos com classes, funções padroes de projetos\n",
    "\n",
    "Contadores\n",
    "\n",
    "desempacotaentos, uso pratico, iterando em dicionarios, dicionarios aninhados, json\n",
    "\n",
    "sql server, conectando sql server com python\n",
    "\n",
    "Criando Webscraping em selenium e xpath, automação pyautogui\n",
    "\n",
    "\n",
    "\"\"\""
   ]
  },
  {
   "cell_type": "code",
   "execution_count": null,
   "metadata": {},
   "outputs": [],
   "source": [
    "#Modulo 5\n",
    "\n",
    "\"\"\"\n",
    "Sql server\n",
    "\n",
    "Querys e sql server\n",
    "\n",
    "subquerys\n",
    "\n",
    "CTES\n",
    "\n",
    "Trigges\n",
    "cursores\n",
    "\n",
    "Funções de JANELA\n",
    "\n",
    "\n",
    "\"\"\""
   ]
  },
  {
   "cell_type": "code",
   "execution_count": null,
   "metadata": {},
   "outputs": [],
   "source": [
    "\n",
    "#Modulo 6\n",
    "\n",
    "\"\"\"\n",
    "Flask\n",
    "\n",
    "Padroes projeto flask\n",
    "BluePrints, Factory\n",
    "\n",
    "Importação circular\n",
    "\n",
    "Imports\n",
    "Migrate\n",
    "\n",
    "Conectar sql server ao sqlalchemy\n",
    "conectar multiplos bancos de dados,\n",
    "trabalhando com schemas\n",
    "\n",
    "serialização\n",
    "\n",
    "\"\"\""
   ]
  },
  {
   "cell_type": "code",
   "execution_count": null,
   "metadata": {},
   "outputs": [],
   "source": [
    "\"\"\"\n",
    "Error hanlderes\n",
    "\n",
    "breve explicação http\n",
    "\n",
    "metodos jsonify\n",
    "\n",
    "Criar proejt api rest flask\n",
    "\n",
    "retorno de parametros\n",
    "heades\n",
    "\n",
    "404, 201,200 ?\n",
    "\n",
    "\"\"\""
   ]
  },
  {
   "cell_type": "code",
   "execution_count": null,
   "metadata": {},
   "outputs": [],
   "source": [
    "\"\"\"\n",
    "Nginx e gunicorn\n",
    "\n",
    "\"\"\""
   ]
  },
  {
   "cell_type": "code",
   "execution_count": null,
   "metadata": {},
   "outputs": [],
   "source": [
    "\"\"\"\n",
    "\n",
    "Relacionamento e querys em flask sqlalchemy\n",
    "\"\"\""
   ]
  },
  {
   "cell_type": "code",
   "execution_count": null,
   "metadata": {},
   "outputs": [],
   "source": [
    "\"\"\"\n",
    "\n",
    "Projeto flask ecommerce\n",
    "Projeto Flask Blog\n",
    "\n",
    "\"\"\""
   ]
  }
 ],
 "metadata": {
  "language_info": {
   "name": "python"
  },
  "orig_nbformat": 4
 },
 "nbformat": 4,
 "nbformat_minor": 2
}
